{
 "cells": [
  {
   "cell_type": "code",
   "execution_count": 24,
   "id": "111181d9",
   "metadata": {},
   "outputs": [],
   "source": [
    "# pip install pandas openpyxl\n",
    "import pandas as pd\n",
    "import pathlib"
   ]
  },
  {
   "cell_type": "code",
   "execution_count": 25,
   "id": "83074008",
   "metadata": {},
   "outputs": [
    {
     "data": {
      "text/html": [
       "<div>\n",
       "<style scoped>\n",
       "    .dataframe tbody tr th:only-of-type {\n",
       "        vertical-align: middle;\n",
       "    }\n",
       "\n",
       "    .dataframe tbody tr th {\n",
       "        vertical-align: top;\n",
       "    }\n",
       "\n",
       "    .dataframe thead th {\n",
       "        text-align: right;\n",
       "    }\n",
       "</style>\n",
       "<table border=\"1\" class=\"dataframe\">\n",
       "  <thead>\n",
       "    <tr style=\"text-align: right;\">\n",
       "      <th></th>\n",
       "      <th>{{instance.suffix}}</th>\n",
       "      <th>{{patient.name.text}}</th>\n",
       "      <th>{{patient.gender}}</th>\n",
       "      <th>{{patient.birthDate}}</th>\n",
       "      <th>{{organization.name}}</th>\n",
       "      <th>{{immunization.expirationDate}}</th>\n",
       "      <th>{{immunization.lotNumber}}</th>\n",
       "      <th>{{immunization.location.display}}</th>\n",
       "      <th>{{immunization.occurrenceDateTime}}</th>\n",
       "    </tr>\n",
       "  </thead>\n",
       "  <tbody>\n",
       "    <tr>\n",
       "      <th>1</th>\n",
       "      <td>English</td>\n",
       "      <td>\"Elizabeth Smith\"</td>\n",
       "      <td>#female</td>\n",
       "      <td>1980-02-01 00:00:00</td>\n",
       "      <td>\"Government Hospital\"</td>\n",
       "      <td>2021-06-30 00:00:00</td>\n",
       "      <td>\"123\"</td>\n",
       "      <td>\"Vaccination Site\"</td>\n",
       "      <td>2021-02-02 00:00:00</td>\n",
       "    </tr>\n",
       "  </tbody>\n",
       "</table>\n",
       "</div>"
      ],
      "text/plain": [
       "  {{instance.suffix}} {{patient.name.text}} {{patient.gender}}  \\\n",
       "1             English     \"Elizabeth Smith\"            #female   \n",
       "\n",
       "  {{patient.birthDate}}  {{organization.name}}  \\\n",
       "1   1980-02-01 00:00:00  \"Government Hospital\"   \n",
       "\n",
       "  {{immunization.expirationDate}} {{immunization.lotNumber}}  \\\n",
       "1             2021-06-30 00:00:00                      \"123\"   \n",
       "\n",
       "  {{immunization.location.display}} {{immunization.occurrenceDateTime}}  \n",
       "1                \"Vaccination Site\"                 2021-02-02 00:00:00  "
      ]
     },
     "execution_count": 25,
     "metadata": {},
     "output_type": "execute_result"
    }
   ],
   "source": [
    "# import excel file in this dir, remove empty 'na' columns\n",
    "df = pd.read_excel('ddcc-patients.xlsx', index_col=None, keep_default_na=False)\n",
    "# drop the comments row (logical row 0)\n",
    "df = df.drop(index=df.index[[0]])\n",
    "df"
   ]
  },
  {
   "cell_type": "code",
   "execution_count": 26,
   "id": "020b5fb9",
   "metadata": {},
   "outputs": [
    {
     "name": "stdout",
     "output_type": "stream",
     "text": [
      "{{instance.suffix}}\n",
      "{{patient.name.text}}\n",
      "{{patient.birthDate}}\n",
      "{{patient.gender}}\n",
      "{{instance.suffix}}\n",
      "{{organization.name}}\n",
      "{{instance.suffix}}\n",
      "{{immunization.expirationDate}}\n",
      "{{immunization.lotNumber}}\n",
      "{{instance.suffix}}\n",
      "{{immunization.location.display}}\n",
      "{{immunization.occurrenceDateTime}}\n",
      "{{instance.suffix}}\n",
      "{{instance.suffix}}\n",
      "{{instance.suffix}}\n",
      "{{instance.suffix}}\n",
      "{{instance.suffix}}\n",
      "{{instance.suffix}}\n",
      "{{instance.suffix}}\n",
      "{{instance.suffix}}\n",
      "{{instance.suffix}}\n"
     ]
    }
   ],
   "source": [
    "# import fsh template with {{x}} for substitutions\n",
    "path = Path('patient-template.fsh')\n",
    "text = path.read_text()\n",
    "import re\n",
    "# debug: print out all the instances of strings that are going to be substituted\n",
    "# other strings can be used other than {{}}\n",
    "items=re.findall(\"\\{\\{.*?\\}\\}\",text,re.MULTILINE)\n",
    "only = []\n",
    "for x in items:\n",
    "    only.append(x)\n",
    "    print(x)\n",
    "# or deduplicate and print\n",
    "# for line in list(set(only)): print(line)"
   ]
  },
  {
   "cell_type": "code",
   "execution_count": 30,
   "id": "763e589b",
   "metadata": {},
   "outputs": [
    {
     "name": "stdout",
     "output_type": "stream",
     "text": [
      "Alias: $ICD11 = http://id.who.int/icd11/mms\n",
      "\n",
      "Instance:     DDCC-Patient-English\n",
      "InstanceOf:   DDCCPatient\n",
      "Usage:        #example\n",
      "// Title: \"\"\n",
      "// Description: \"\"\n",
      "* name[+].text = \"Elizabeth Smith\"\n",
      "* birthDate = 1980-02-01 00:00:00\n",
      "* gender = #female\n",
      "\n",
      "Instance: DDCC-Organization-English\n",
      "InstanceOf: DDCCOrganization\n",
      "Usage: #example\n",
      "// Title: \"\"\n",
      "// Description: \"\"\n",
      "* name = \"Government Hospital\"\n",
      "\n",
      "Instance: DDCC-Immunization-English\n",
      "InstanceOf: DDCCImmunization\n",
      "Usage: #example\n",
      "// Title: \"\"\n",
      "// Description: \"\"\n",
      "* status = #completed\n",
      "// \n",
      "* extension[vaccineBrand].valueCoding.system = \"urn:EXAMPLE-who-:smart:vaccine-certificate:RC1:coding\"\n",
      "* extension[vaccineBrand].valueCoding.code = #TEST\n",
      "* extension[country].valueCode = #CHE\n",
      "* vaccineCode.coding[ddccVaccine].code = $ICD11#XM0CX4\n",
      "// \n",
      "* expirationDate = 2021-06-30 00:00:00\n",
      "* lotNumber = \"123\"\n",
      "* patient = Reference(DDCC-Patient-English)\n",
      "* location.display = \"Vaccination Site\"\n",
      "* occurrenceDateTime =  2021-02-02 00:00:00\n",
      "* performer.actor = Reference(DDCC-Organization-English)\n",
      "// \n",
      "* protocolApplied[protocolAppliedAuthority].authority = Reference(DDCC-Organization-English)\n",
      "* protocolApplied[protocolAppliedAuthority].targetDisease = $ICD11#RA01.0\n",
      "* protocolApplied[protocolAppliedAuthority].doseNumberPositiveInt = 1\n",
      "* protocolApplied[protocolAppliedAuthority].seriesDosesPositiveInt = 2\n",
      "\n",
      "Instance: Example-English\n",
      "InstanceOf: Bundle\n",
      "Usage: #example\n",
      "\n",
      "* type = #transaction\n",
      "* entry[+].fullUrl = \"http://www.example.org/fhir/Patient/DDCC-Patient-English\"\n",
      "* entry[=].request.url = \"Patient\"\n",
      "* entry[=].request.method = #PUT\n",
      "* entry[=].resource = DDCC-Patient-English\n",
      "\n",
      "* entry[+].fullUrl = \"http://www.example.org/fhir/Patient/DDCC-Organization-English\"\n",
      "* entry[=].request.url = \"Organization\"\n",
      "* entry[=].request.method = #PUT\n",
      "* entry[=].resource = DDCC-Organization-English\n",
      "\n",
      "* entry[+].fullUrl = \"http://www.example.org/fhir/Patient/DDCC-Immunization-English\"\n",
      "* entry[=].request.url = \"Immunization\"\n",
      "* entry[=].request.method = #PUT\n",
      "* entry[=].resource = DDCC-Immunization-English\n",
      "\n"
     ]
    }
   ],
   "source": [
    "# loop over the {{x}} items in spreadsheet\n",
    "# todo: this is over only the {{x}} in the fsh template\n",
    "for i, row in df.iterrows():    \n",
    "    for column in df.columns:\n",
    "        text = text.replace(column, str(row[column]))\n",
    "    newfile = \"output/example-\" + row[0] + \".fsh\"\n",
    "    path = pathlib.Path(newfile)\n",
    "    path.write_text(text)\n",
    "print(text)\n",
    "# text = text.replace(text_to_search, replacement_text)\n"
   ]
  },
  {
   "cell_type": "code",
   "execution_count": 159,
   "id": "6814338b",
   "metadata": {},
   "outputs": [],
   "source": [
    "# Write the file out\n",
    "path.write_text(text)"
   ]
  },
  {
   "cell_type": "code",
   "execution_count": null,
   "id": "9b24c13a",
   "metadata": {},
   "outputs": [],
   "source": []
  }
 ],
 "metadata": {
  "kernelspec": {
   "display_name": "Python 3",
   "language": "python",
   "name": "python3"
  },
  "language_info": {
   "codemirror_mode": {
    "name": "ipython",
    "version": 3
   },
   "file_extension": ".py",
   "mimetype": "text/x-python",
   "name": "python",
   "nbconvert_exporter": "python",
   "pygments_lexer": "ipython3",
   "version": "3.9.6"
  }
 },
 "nbformat": 4,
 "nbformat_minor": 5
}
